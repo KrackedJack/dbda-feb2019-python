{
 "cells": [
  {
   "cell_type": "code",
   "execution_count": 1,
   "metadata": {},
   "outputs": [
    {
     "name": "stdout",
     "output_type": "stream",
     "text": [
      "     0   1  2              3      4\n",
      "0    1  24  M     technician  85711\n",
      "1    2  53  F          other  94043\n",
      "2    3  23  M         writer  32067\n",
      "3    4  24  M     technician  43537\n",
      "4    5  33  F          other  15213\n",
      "5    6  42  M      executive  98101\n",
      "6    7  57  M  administrator  91344\n",
      "7    8  36  M  administrator  05201\n",
      "8    9  29  M        student  01002\n",
      "9   10  53  M         lawyer  90703\n",
      "10  11  39  F          other  30329\n",
      "11  12  28  F          other  06405\n",
      "12  13  47  M       educator  29206\n",
      "13  14  45  M      scientist  55106\n",
      "14  15  49  F       educator  97301\n",
      "15  16  21  M  entertainment  10309\n",
      "16  17  30  M     programmer  06355\n",
      "17  18  35  F          other  37212\n",
      "18  19  40  M      librarian  02138\n",
      "19  20  42  F      homemaker  95660\n"
     ]
    }
   ],
   "source": [
    "import pandas as pd\n",
    "#import seaborn as sns\n",
    "import matplotlib.pyplot as plt\n",
    "mydata=pd.read_csv(\"http://bit.ly/movieusers\",sep=\"|\",header=None)\n",
    "print(mydata.head(20))"
   ]
  },
  {
   "cell_type": "code",
   "execution_count": 2,
   "metadata": {},
   "outputs": [
    {
     "name": "stdout",
     "output_type": "stream",
     "text": [
      "<class 'pandas.core.frame.DataFrame'>\n",
      "['col1', 'col2', 'col3', 'col4', 'col5', 'col6']\n"
     ]
    }
   ],
   "source": [
    "mydata.columns=[\"col1\",\"col2\",\"col3\",\"col4\",\"col5\"]\n",
    "#print(mydata.col3)\n",
    "mydata['col6']=mydata[\"col2\"].map(str)+\":\"+mydata[\"col3\"]\n",
    "print(type(mydata))\n",
    "print(mydata.columns.tolist())"
   ]
  },
  {
   "cell_type": "code",
   "execution_count": 3,
   "metadata": {},
   "outputs": [
    {
     "data": {
      "image/png": "[encoded data removed]",
      "text/plain": [
       "<Figure size 432x288 with 1 Axes>"
      ]
     },
     "metadata": {
      "needs_background": "light"
     },
     "output_type": "display_data"
    }
   ],
   "source": [
    "mydata.iloc[0:20].plot.bar(x='col4',y='col1',rot=90)\n",
    "plt.show()\n",
    "#sns.barplot(x='Col4', y='Col1', data=mydata)"
   ]
  },
  {
   "cell_type": "code",
   "execution_count": null,
   "metadata": {},
   "outputs": [],
   "source": []
  }
 ],
 "metadata": {
  "kernelspec": {
   "display_name": "Python 3",
   "language": "python",
   "name": "python3"
  },
  "language_info": {
   "codemirror_mode": {
    "name": "ipython",
    "version": 3
   },
   "file_extension": ".py",
   "mimetype": "text/x-python",
   "name": "python",
   "nbconvert_exporter": "python",
   "pygments_lexer": "ipython3",
   "version": "3.7.2"
  }
 },
 "nbformat": 4,
 "nbformat_minor": 2
}
